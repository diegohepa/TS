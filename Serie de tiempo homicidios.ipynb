{
 "cells": [
  {
   "cell_type": "code",
   "execution_count": null,
   "metadata": {},
   "outputs": [],
   "source": [
    "import pandas as pd\n",
    "import matplotlib.pyplot as plt\n",
    "from pmdarima import auto_arima\n",
    "import chart_studio.plotly as ply\n",
    "import plotly"
   ]
  },
  {
   "cell_type": "code",
   "execution_count": 58,
   "metadata": {},
   "outputs": [
    {
     "data": {
      "text/html": [
       "<div>\n",
       "<style scoped>\n",
       "    .dataframe tbody tr th:only-of-type {\n",
       "        vertical-align: middle;\n",
       "    }\n",
       "\n",
       "    .dataframe tbody tr th {\n",
       "        vertical-align: top;\n",
       "    }\n",
       "\n",
       "    .dataframe thead th {\n",
       "        text-align: right;\n",
       "    }\n",
       "</style>\n",
       "<table border=\"1\" class=\"dataframe\">\n",
       "  <thead>\n",
       "    <tr style=\"text-align: right;\">\n",
       "      <th></th>\n",
       "      <th>fecha</th>\n",
       "      <th>homicidios</th>\n",
       "    </tr>\n",
       "  </thead>\n",
       "  <tbody>\n",
       "    <tr>\n",
       "      <td>0</td>\n",
       "      <td>2007-01-01</td>\n",
       "      <td>798</td>\n",
       "    </tr>\n",
       "    <tr>\n",
       "      <td>1</td>\n",
       "      <td>2007-02-01</td>\n",
       "      <td>720</td>\n",
       "    </tr>\n",
       "    <tr>\n",
       "      <td>2</td>\n",
       "      <td>2007-03-01</td>\n",
       "      <td>911</td>\n",
       "    </tr>\n",
       "    <tr>\n",
       "      <td>3</td>\n",
       "      <td>2007-04-01</td>\n",
       "      <td>912</td>\n",
       "    </tr>\n",
       "    <tr>\n",
       "      <td>4</td>\n",
       "      <td>2007-05-01</td>\n",
       "      <td>1010</td>\n",
       "    </tr>\n",
       "  </tbody>\n",
       "</table>\n",
       "</div>"
      ],
      "text/plain": [
       "       fecha  homicidios\n",
       "0 2007-01-01         798\n",
       "1 2007-02-01         720\n",
       "2 2007-03-01         911\n",
       "3 2007-04-01         912\n",
       "4 2007-05-01        1010"
      ]
     },
     "execution_count": 58,
     "metadata": {},
     "output_type": "execute_result"
    }
   ],
   "source": [
    "homicidios = pd.read_csv('Desktop/homicidios.csv')\n",
    "\n",
    "homicidios['fecha'] = pd.to_datetime(homicidios['fecha'])\n",
    "homicidios.head()"
   ]
  },
  {
   "cell_type": "code",
   "execution_count": 59,
   "metadata": {},
   "outputs": [
    {
     "name": "stdout",
     "output_type": "stream",
     "text": [
      "0   2007-01-01\n",
      "Name: fecha, dtype: datetime64[ns]\n",
      "152   2019-09-01\n",
      "Name: fecha, dtype: datetime64[ns]\n"
     ]
    }
   ],
   "source": [
    "inicio = homicidios[0:1].fecha\n",
    "fin = homicidios[-1:].fecha\n",
    "\n",
    "print(inicio)\n",
    "print(fin)"
   ]
  },
  {
   "cell_type": "code",
   "execution_count": 65,
   "metadata": {},
   "outputs": [
    {
     "name": "stdout",
     "output_type": "stream",
     "text": [
      "Fit ARIMA: order=(1, 1, 1) seasonal_order=(0, 1, 1, 12); AIC=1708.058, BIC=1722.767, Fit time=0.974 seconds\n",
      "Fit ARIMA: order=(0, 1, 0) seasonal_order=(0, 1, 0, 12); AIC=1797.084, BIC=1802.967, Fit time=0.018 seconds\n",
      "Fit ARIMA: order=(1, 1, 0) seasonal_order=(1, 1, 0, 12); AIC=1748.641, BIC=1760.408, Fit time=0.457 seconds\n",
      "Fit ARIMA: order=(0, 1, 1) seasonal_order=(0, 1, 1, 12); AIC=1706.067, BIC=1717.833, Fit time=0.831 seconds\n",
      "Fit ARIMA: order=(0, 1, 1) seasonal_order=(1, 1, 1, 12); AIC=1707.900, BIC=1722.608, Fit time=1.802 seconds\n",
      "Fit ARIMA: order=(0, 1, 1) seasonal_order=(0, 1, 0, 12); AIC=1764.086, BIC=1772.911, Fit time=0.171 seconds\n",
      "Fit ARIMA: order=(0, 1, 1) seasonal_order=(0, 1, 2, 12); AIC=1707.869, BIC=1722.577, Fit time=3.178 seconds\n",
      "Fit ARIMA: order=(0, 1, 1) seasonal_order=(1, 1, 2, 12); AIC=1710.061, BIC=1727.711, Fit time=3.605 seconds\n",
      "Fit ARIMA: order=(0, 1, 0) seasonal_order=(0, 1, 1, 12); AIC=1722.224, BIC=1731.049, Fit time=0.601 seconds\n",
      "Fit ARIMA: order=(0, 1, 2) seasonal_order=(0, 1, 1, 12); AIC=1708.047, BIC=1722.755, Fit time=1.530 seconds\n",
      "Fit ARIMA: order=(1, 1, 2) seasonal_order=(0, 1, 1, 12); AIC=1710.065, BIC=1727.715, Fit time=1.330 seconds\n",
      "Total fit time: 14.501 seconds\n",
      "1706.0667208770674\n"
     ]
    }
   ],
   "source": [
    "#Usamos auto_arima, pero definiendo con stepwise el modelo, para así fijarnos\n",
    "#En el AIC y escoger el mejor modelo\n",
    "stepwise_model = auto_arima(homicidios['homicidios'], start_p=1, start_q=1,\n",
    "                           max_p=3, max_q=3, m=12,\n",
    "                           start_P=0, seasonal=True,\n",
    "                           d=1, D=1, trace=True,\n",
    "                           error_action='ignore',  \n",
    "                           suppress_warnings=True, \n",
    "                           stepwise=True)\n",
    "print(stepwise_model.aic())"
   ]
  },
  {
   "cell_type": "code",
   "execution_count": null,
   "metadata": {},
   "outputs": [],
   "source": [
    "homicidios['homicidios'].iplot(title =\"Homicidios\")"
   ]
  }
 ],
 "metadata": {
  "kernelspec": {
   "display_name": "Python 3",
   "language": "python",
   "name": "python3"
  },
  "language_info": {
   "codemirror_mode": {
    "name": "ipython",
    "version": 3
   },
   "file_extension": ".py",
   "mimetype": "text/x-python",
   "name": "python",
   "nbconvert_exporter": "python",
   "pygments_lexer": "ipython3",
   "version": "3.7.4"
  }
 },
 "nbformat": 4,
 "nbformat_minor": 2
}
